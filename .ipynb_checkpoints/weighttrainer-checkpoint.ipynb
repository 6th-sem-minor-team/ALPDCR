{
 "cells": [
  {
   "cell_type": "code",
   "execution_count": 1,
   "metadata": {},
   "outputs": [],
   "source": [
    "# ignore warning \n",
    "import os\n",
    "os.environ['TF_CPP_MIN_LOG_LEVEL'] = '3'\n",
    "\n",
    "from keras.preprocessing.image import ImageDataGenerator\n",
    "from keras.applications import MobileNetV2\n",
    "from keras.layers import AveragePooling2D\n",
    "from keras.layers import Dropout\n",
    "from keras.layers import Flatten\n",
    "from keras.layers import Dense\n",
    "from keras.layers import Input\n",
    "from keras.models import Model\n",
    "from keras.optimizers import Adam\n",
    "from keras.preprocessing.image import img_to_array\n",
    "from keras.preprocessing.image import load_img\n",
    "from keras.utils import to_categorical\n",
    "from keras.callbacks import ModelCheckpoint, EarlyStopping\n",
    "from keras.models import model_from_json\n",
    "from sklearn.preprocessing import LabelEncoder\n",
    "from sklearn.model_selection import train_test_split\n",
    "import matplotlib.pyplot as plt\n",
    "import matplotlib.gridspec as gridspec\n",
    "import glob\n",
    "import numpy as np"
   ]
  },
  {
   "cell_type": "code",
   "execution_count": 2,
   "metadata": {},
   "outputs": [
    {
     "data": {
      "image/png": "[encoded data removed]",
      "text/plain": [
       "<Figure size 720x576 with 12 Axes>"
      ]
     },
     "metadata": {
      "needs_background": "light"
     },
     "output_type": "display_data"
    }
   ],
   "source": [
    "dataset_paths = glob.glob(\"dataset_characters/**/*.jpg\")\n",
    "\n",
    "cols=4\n",
    "rows=3\n",
    "fig = plt.figure(figsize=(10,8))\n",
    "plt.rcParams.update({\"font.size\":14})\n",
    "grid = gridspec.GridSpec(ncols=cols,nrows=rows,figure=fig)\n",
    "\n",
    "# create a random list of images will be displayed\n",
    "np.random.seed(45)\n",
    "rand = np.random.randint(0,len(dataset_paths),size=(cols*rows))\n",
    "\n",
    "# Plot image\n",
    "for i in range(cols*rows):\n",
    "    fig.add_subplot(grid[i])\n",
    "    image = load_img(dataset_paths[rand[i]])\n",
    "    label = dataset_paths[rand[i]].split(os.path.sep)[-2]\n",
    "    plt.title('\"{:s}\"'.format(label))\n",
    "    plt.axis(False)\n",
    "    plt.imshow(image)\n",
    "\n",
    "plt.savefig(\"Visualize_dataset.jpg\",dpi=300)"
   ]
  },
  {
   "cell_type": "code",
   "execution_count": 3,
   "metadata": {},
   "outputs": [
    {
     "name": "stdout",
     "output_type": "stream",
     "text": [
      "[INFO] Find 37623 images with 36 classes\n",
      "done\n"
     ]
    }
   ],
   "source": [
    "# Arange input data and corresponding labels\n",
    "X=[]\n",
    "labels=[]\n",
    "\n",
    "for image_path in dataset_paths:\n",
    "  label = image_path.split(os.path.sep)[-2]\n",
    "  image=load_img(image_path,target_size=(80,80))#(224,224)\n",
    "  image=img_to_array(image)\n",
    "\n",
    "  X.append(image)\n",
    "  labels.append(label)\n",
    "\n",
    "X = np.array(X,dtype=\"float16\")\n",
    "labels = np.array(labels)\n",
    "\n",
    "print(\"[INFO] Find {:d} images with {:d} classes\".format(len(X),len(set(labels))))\n",
    "\n",
    "\n",
    "# perform one-hot encoding on the labels\n",
    "lb = LabelEncoder()\n",
    "lb.fit(labels)\n",
    "labels = lb.transform(labels)\n",
    "y = to_categorical(labels)\n",
    "\n",
    "# save label file so we can use in another script\n",
    "np.save('license_character_classes.npy', lb.classes_)\n",
    "print('done')"
   ]
  },
  {
   "cell_type": "code",
   "execution_count": 4,
   "metadata": {},
   "outputs": [],
   "source": [
    "# split 10% of data as validation set\n",
    "(trainX, testX, trainY, testY) = train_test_split(X, y, test_size=0.10, stratify=y, random_state=42)"
   ]
  },
  {
   "cell_type": "code",
   "execution_count": 5,
   "metadata": {},
   "outputs": [],
   "source": [
    "# data augumentation\n",
    "image_gen = ImageDataGenerator(rotation_range=10,\n",
    "                              width_shift_range=0.1,\n",
    "                              height_shift_range=0.1,\n",
    "                              shear_range=0.1,\n",
    "                              zoom_range=0.1,\n",
    "                              fill_mode=\"nearest\"\n",
    "                              )"
   ]
  },
  {
   "cell_type": "code",
   "execution_count": 6,
   "metadata": {},
   "outputs": [],
   "source": [
    "# Create our model with pre-trained MobileNetV2 architecture from imagenet\n",
    "def create_model(lr=1e-4,decay=1e-4/25, training=False,output_shape=y.shape[1]):\n",
    "    baseModel = MobileNetV2(weights=\"imagenet\", \n",
    "                            include_top=False,\n",
    "                            input_tensor=Input(shape=(80, 80, 3)))\n",
    "\n",
    "    headModel = baseModel.output\n",
    "    headModel = AveragePooling2D(pool_size=(3, 3))(headModel)\n",
    "    headModel = Flatten(name=\"flatten\")(headModel)\n",
    "    headModel = Dense(128, activation=\"relu\")(headModel)\n",
    "    headModel = Dropout(0.5)(headModel)\n",
    "    headModel = Dense(output_shape, activation=\"softmax\")(headModel)\n",
    "    \n",
    "    model = Model(inputs=baseModel.input, outputs=headModel)\n",
    "    \n",
    "    if training:\n",
    "        # define trainable lalyer\n",
    "        for layer in baseModel.layers:\n",
    "            layer.trainable = True\n",
    "        # compile model\n",
    "        optimizer = Adam(lr=lr, decay = decay)\n",
    "        model.compile(loss=\"categorical_crossentropy\", optimizer=optimizer,metrics=[\"accuracy\"])    \n",
    "        \n",
    "    return model"
   ]
  },
  {
   "cell_type": "code",
   "execution_count": 7,
   "metadata": {},
   "outputs": [
    {
     "name": "stdout",
     "output_type": "stream",
     "text": [
      "WARNING:tensorflow:`input_shape` is undefined or non-square, or `rows` is not in [96, 128, 160, 192, 224]. Weights for input shape (224, 224) will be loaded as the default.\n",
      "done\n"
     ]
    }
   ],
   "source": [
    "# initilaize initial hyperparameter\n",
    "INIT_LR = 1e-4\n",
    "EPOCHS = 30\n",
    "\n",
    "model = create_model(lr=INIT_LR, decay=INIT_LR/EPOCHS,training=True)\n",
    "print('done')"
   ]
  },
  {
   "cell_type": "code",
   "execution_count": 8,
   "metadata": {},
   "outputs": [
    {
     "name": "stdout",
     "output_type": "stream",
     "text": [
      "Epoch 1/30\n",
      "WARNING:tensorflow:AutoGraph could not transform <function Model.make_train_function.<locals>.train_function at 0x00000289B3D8D9D8> and will run it as-is.\n",
      "Please report this to the TensorFlow team. When filing the bug, set the verbosity to 10 (on Linux, `export AUTOGRAPH_VERBOSITY=10`) and attach the full output.\n",
      "Cause: 'arguments' object has no attribute 'posonlyargs'\n",
      "To silence this warning, decorate the function with @tf.autograph.experimental.do_not_convert\n",
      "WARNING: AutoGraph could not transform <function Model.make_train_function.<locals>.train_function at 0x00000289B3D8D9D8> and will run it as-is.\n",
      "Please report this to the TensorFlow team. When filing the bug, set the verbosity to 10 (on Linux, `export AUTOGRAPH_VERBOSITY=10`) and attach the full output.\n",
      "Cause: 'arguments' object has no attribute 'posonlyargs'\n",
      "To silence this warning, decorate the function with @tf.autograph.experimental.do_not_convert\n",
      "529/529 [==============================] - ETA: 0s - loss: 2.5516 - accuracy: 0.3484WARNING:tensorflow:AutoGraph could not transform <function Model.make_test_function.<locals>.test_function at 0x0000028B9BDCC5E8> and will run it as-is.\n",
      "Please report this to the TensorFlow team. When filing the bug, set the verbosity to 10 (on Linux, `export AUTOGRAPH_VERBOSITY=10`) and attach the full output.\n",
      "Cause: 'arguments' object has no attribute 'posonlyargs'\n",
      "To silence this warning, decorate the function with @tf.autograph.experimental.do_not_convert\n",
      "WARNING: AutoGraph could not transform <function Model.make_test_function.<locals>.test_function at 0x0000028B9BDCC5E8> and will run it as-is.\n",
      "Please report this to the TensorFlow team. When filing the bug, set the verbosity to 10 (on Linux, `export AUTOGRAPH_VERBOSITY=10`) and attach the full output.\n",
      "Cause: 'arguments' object has no attribute 'posonlyargs'\n",
      "To silence this warning, decorate the function with @tf.autograph.experimental.do_not_convert\n",
      "529/529 [==============================] - 813s 2s/step - loss: 2.5497 - accuracy: 0.3489 - val_loss: 1.8879 - val_accuracy: 0.5304\n",
      "\n",
      "Epoch 00001: saving model to Dipta_character_recognition.h5\n",
      "Epoch 2/30\n",
      "529/529 [==============================] - 825s 2s/step - loss: 0.4910 - accuracy: 0.8699 - val_loss: 0.4199 - val_accuracy: 0.8823\n",
      "\n",
      "Epoch 00002: saving model to Dipta_character_recognition.h5\n",
      "Epoch 3/30\n",
      "529/529 [==============================] - 841s 2s/step - loss: 0.3198 - accuracy: 0.9131 - val_loss: 0.2609 - val_accuracy: 0.9248\n",
      "\n",
      "Epoch 00003: saving model to Dipta_character_recognition.h5\n",
      "Epoch 4/30\n",
      "529/529 [==============================] - 865s 2s/step - loss: 0.2564 - accuracy: 0.9289 - val_loss: 0.1745 - val_accuracy: 0.9492\n",
      "\n",
      "Epoch 00004: saving model to Dipta_character_recognition.h5\n",
      "Epoch 5/30\n",
      "529/529 [==============================] - 882s 2s/step - loss: 0.2014 - accuracy: 0.9439 - val_loss: 0.1506 - val_accuracy: 0.9559\n",
      "\n",
      "Epoch 00005: saving model to Dipta_character_recognition.h5\n",
      "Epoch 6/30\n",
      "529/529 [==============================] - 884s 2s/step - loss: 0.1760 - accuracy: 0.9485 - val_loss: 0.1373 - val_accuracy: 0.9609\n",
      "\n",
      "Epoch 00006: saving model to Dipta_character_recognition.h5\n",
      "Epoch 7/30\n",
      "529/529 [==============================] - 883s 2s/step - loss: 0.1505 - accuracy: 0.9546 - val_loss: 0.1154 - val_accuracy: 0.9655\n",
      "\n",
      "Epoch 00007: saving model to Dipta_character_recognition.h5\n",
      "Epoch 8/30\n",
      "529/529 [==============================] - 887s 2s/step - loss: 0.1401 - accuracy: 0.9602 - val_loss: 0.1236 - val_accuracy: 0.9639\n",
      "\n",
      "Epoch 00008: saving model to Dipta_character_recognition.h5\n",
      "Epoch 9/30\n",
      "529/529 [==============================] - 896s 2s/step - loss: 0.1395 - accuracy: 0.9575 - val_loss: 0.1288 - val_accuracy: 0.9599\n",
      "\n",
      "Epoch 00009: saving model to Dipta_character_recognition.h5\n",
      "Epoch 10/30\n",
      "529/529 [==============================] - 895s 2s/step - loss: 0.1128 - accuracy: 0.9651 - val_loss: 0.1481 - val_accuracy: 0.9625\n",
      "\n",
      "Epoch 00010: saving model to Dipta_character_recognition.h5\n",
      "Epoch 11/30\n",
      "529/529 [==============================] - 898s 2s/step - loss: 0.1160 - accuracy: 0.9648 - val_loss: 0.0954 - val_accuracy: 0.9705\n",
      "\n",
      "Epoch 00011: saving model to Dipta_character_recognition.h5\n",
      "Epoch 12/30\n",
      "529/529 [==============================] - 895s 2s/step - loss: 0.1017 - accuracy: 0.9697 - val_loss: 0.0843 - val_accuracy: 0.9758\n",
      "\n",
      "Epoch 00012: saving model to Dipta_character_recognition.h5\n",
      "Epoch 13/30\n",
      "529/529 [==============================] - 898s 2s/step - loss: 0.0936 - accuracy: 0.9713 - val_loss: 0.0835 - val_accuracy: 0.9753\n",
      "\n",
      "Epoch 00013: saving model to Dipta_character_recognition.h5\n",
      "Epoch 14/30\n",
      "529/529 [==============================] - 896s 2s/step - loss: 0.0958 - accuracy: 0.9721 - val_loss: 0.1006 - val_accuracy: 0.9681\n",
      "\n",
      "Epoch 00014: saving model to Dipta_character_recognition.h5\n",
      "Epoch 15/30\n",
      "529/529 [==============================] - 896s 2s/step - loss: 0.0857 - accuracy: 0.9729 - val_loss: 0.1023 - val_accuracy: 0.9684\n",
      "\n",
      "Epoch 00015: saving model to Dipta_character_recognition.h5\n",
      "Epoch 16/30\n",
      "529/529 [==============================] - 892s 2s/step - loss: 0.0839 - accuracy: 0.9731 - val_loss: 0.0943 - val_accuracy: 0.9705\n",
      "\n",
      "Epoch 00016: saving model to Dipta_character_recognition.h5\n",
      "Epoch 17/30\n",
      "529/529 [==============================] - 898s 2s/step - loss: 0.0798 - accuracy: 0.9755 - val_loss: 0.0753 - val_accuracy: 0.9763\n",
      "\n",
      "Epoch 00017: saving model to Dipta_character_recognition.h5\n",
      "Epoch 18/30\n",
      "529/529 [==============================] - 894s 2s/step - loss: 0.0774 - accuracy: 0.9758 - val_loss: 0.0808 - val_accuracy: 0.9769\n",
      "\n",
      "Epoch 00018: saving model to Dipta_character_recognition.h5\n",
      "Epoch 19/30\n",
      "529/529 [==============================] - 942s 2s/step - loss: 0.0792 - accuracy: 0.9736 - val_loss: 0.0735 - val_accuracy: 0.9777\n",
      "\n",
      "Epoch 00019: saving model to Dipta_character_recognition.h5\n",
      "Epoch 20/30\n",
      "529/529 [==============================] - 933s 2s/step - loss: 0.0746 - accuracy: 0.9765 - val_loss: 0.0752 - val_accuracy: 0.9769\n",
      "\n",
      "Epoch 00020: saving model to Dipta_character_recognition.h5\n",
      "Epoch 21/30\n",
      "529/529 [==============================] - 917s 2s/step - loss: 0.0761 - accuracy: 0.9750 - val_loss: 0.0681 - val_accuracy: 0.9782\n",
      "\n",
      "Epoch 00021: saving model to Dipta_character_recognition.h5\n",
      "Epoch 22/30\n",
      "529/529 [==============================] - 903s 2s/step - loss: 0.0696 - accuracy: 0.9769 - val_loss: 0.0752 - val_accuracy: 0.9779\n",
      "\n",
      "Epoch 00022: saving model to Dipta_character_recognition.h5\n",
      "Epoch 23/30\n",
      "529/529 [==============================] - 904s 2s/step - loss: 0.0628 - accuracy: 0.9790 - val_loss: 0.0727 - val_accuracy: 0.9779\n",
      "\n",
      "Epoch 00023: saving model to Dipta_character_recognition.h5\n",
      "Epoch 24/30\n",
      "529/529 [==============================] - 905s 2s/step - loss: 0.0710 - accuracy: 0.9786 - val_loss: 0.0715 - val_accuracy: 0.9756\n",
      "\n",
      "Epoch 00024: saving model to Dipta_character_recognition.h5\n",
      "Epoch 25/30\n",
      "529/529 [==============================] - 903s 2s/step - loss: 0.0647 - accuracy: 0.9789 - val_loss: 0.0657 - val_accuracy: 0.9785\n",
      "\n",
      "Epoch 00025: saving model to Dipta_character_recognition.h5\n",
      "Epoch 26/30\n",
      "529/529 [==============================] - 905s 2s/step - loss: 0.0664 - accuracy: 0.9779 - val_loss: 0.0606 - val_accuracy: 0.9814\n",
      "\n",
      "Epoch 00026: saving model to Dipta_character_recognition.h5\n",
      "Epoch 27/30\n",
      "529/529 [==============================] - 906s 2s/step - loss: 0.0603 - accuracy: 0.9819 - val_loss: 0.1002 - val_accuracy: 0.9737\n",
      "\n",
      "Epoch 00027: saving model to Dipta_character_recognition.h5\n",
      "Epoch 28/30\n",
      "529/529 [==============================] - 914s 2s/step - loss: 0.0608 - accuracy: 0.9812 - val_loss: 0.0588 - val_accuracy: 0.9809\n",
      "\n",
      "Epoch 00028: saving model to Dipta_character_recognition.h5\n",
      "Epoch 29/30\n",
      "529/529 [==============================] - 902s 2s/step - loss: 0.0553 - accuracy: 0.9821 - val_loss: 0.0636 - val_accuracy: 0.9806\n",
      "\n",
      "Epoch 00029: saving model to Dipta_character_recognition.h5\n",
      "Epoch 30/30\n",
      "529/529 [==============================] - 1022s 2s/step - loss: 0.0569 - accuracy: 0.9812 - val_loss: 0.0671 - val_accuracy: 0.9774\n",
      "\n",
      "Epoch 00030: saving model to Dipta_character_recognition.h5\n",
      "done...\n"
     ]
    }
   ],
   "source": [
    "BATCH_SIZE = 64\n",
    "\n",
    "my_checkpointer = [\n",
    "                EarlyStopping(monitor='val_loss', patience=5, verbose=0),\n",
    "                ModelCheckpoint(filepath=\"License_character_recognition_weight.h5\", verbose=1, save_weights_only=True)\n",
    "                ]\n",
    "\n",
    "result = model.fit(image_gen.flow(trainX, trainY, batch_size=BATCH_SIZE), \n",
    "                   steps_per_epoch=len(trainX) // BATCH_SIZE, \n",
    "                   validation_data=(testX, testY), \n",
    "                   validation_steps=len(testX) // BATCH_SIZE, \n",
    "                   epochs=EPOCHS, callbacks=my_checkpointer)\n",
    "print('done...')"
   ]
  },
  {
   "cell_type": "code",
   "execution_count": 9,
   "metadata": {},
   "outputs": [
    {
     "data": {
      "text/plain": [
       "<matplotlib.legend.Legend at 0x28b9b8a5cc8>"
      ]
     },
     "execution_count": 9,
     "metadata": {},
     "output_type": "execute_result"
    },
    {
     "data": {
      "image/png": "[encoded data removed]",
      "text/plain": [
       "<Figure size 1008x360 with 2 Axes>"
      ]
     },
     "metadata": {
      "needs_background": "light"
     },
     "output_type": "display_data"
    }
   ],
   "source": [
    "fig = plt.figure(figsize=(14,5))\n",
    "grid=gridspec.GridSpec(ncols=2,nrows=1,figure=fig)\n",
    "fig.add_subplot(grid[0])\n",
    "plt.plot(result.history['accuracy'], label='training accuracy')\n",
    "plt.plot(result.history['Test_accuracy'], label='Test accuracy')\n",
    "plt.title('Accuracy')\n",
    "plt.xlabel('epochs')\n",
    "plt.ylabel('accuracy')\n",
    "plt.legend()\n",
    "\n",
    "fig.add_subplot(grid[1])\n",
    "plt.plot(result.history['loss'], label='training loss')\n",
    "plt.plot(result.history['Test_loss'], label='Test loss')\n",
    "plt.title('Loss')\n",
    "plt.xlabel('epochs')\n",
    "plt.ylabel('loss')\n",
    "plt.legend()\n",
    "\n",
    "#plt.savefig(\"Training_result.jpg\",dpi=300)"
   ]
  },
  {
   "cell_type": "code",
   "execution_count": 10,
   "metadata": {},
   "outputs": [],
   "source": [
    "# save model architectur as json file\n",
    "model_json = model.to_json()\n",
    "with open(\"MobileNets_character_recognition.json\", \"w\") as json_file:\n",
    "  json_file.write(model_json)"
   ]
  }
 ],
 "metadata": {
  "kernelspec": {
   "display_name": "Python 3",
   "language": "python",
   "name": "python3"
  },
  "language_info": {
   "codemirror_mode": {
    "name": "ipython",
    "version": 3
   },
   "file_extension": ".py",
   "mimetype": "text/x-python",
   "name": "python",
   "nbconvert_exporter": "python",
   "pygments_lexer": "ipython3",
   "version": "3.7.6"
  }
 },
 "nbformat": 4,
 "nbformat_minor": 5
}
